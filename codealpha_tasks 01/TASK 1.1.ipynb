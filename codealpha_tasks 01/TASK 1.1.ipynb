{
 "cells": [
  {
   "cell_type": "code",
   "execution_count": 1,
   "id": "d672c6de-1c57-44b6-b946-57df1a95ed83",
   "metadata": {},
   "outputs": [
    {
     "name": "stdout",
     "output_type": "stream",
     "text": [
      "Requirement already satisfied: scapy in c:\\users\\dell\\anaconda3\\lib\\site-packages (2.6.1)\n"
     ]
    }
   ],
   "source": [
    "!pip install scapy"
   ]
  },
  {
   "cell_type": "code",
   "execution_count": 2,
   "id": "b7e07981-ab47-40e9-abd0-2f41916bc2a0",
   "metadata": {},
   "outputs": [
    {
     "name": "stdout",
     "output_type": "stream",
     "text": [
      "[+] 0.0.0.0 -> 255.255.255.255\n",
      "[+] 192.168.249.132 -> 192.168.249.209\n",
      "[+] 192.168.249.209 -> 192.168.249.255\n",
      "[+] 192.168.249.209 -> 192.168.249.255\n",
      "[+] 192.168.249.209 -> 192.168.249.255\n",
      "[+] 192.168.249.209 -> 224.0.0.22\n",
      "[+] 192.168.249.209 -> 224.0.0.22\n",
      "[+] 192.168.249.209 -> 224.0.0.22\n",
      "[+] 192.168.249.209 -> 224.0.0.22\n",
      "[+] 192.168.249.209 -> 192.168.249.132\n"
     ]
    },
    {
     "data": {
      "text/plain": [
       "<Sniffed: TCP:0 UDP:6 ICMP:0 Other:4>"
      ]
     },
     "execution_count": 2,
     "metadata": {},
     "output_type": "execute_result"
    }
   ],
   "source": [
    "\n",
    "from scapy.all import sniff, IP\n",
    "\n",
    "def packet_callback(packet):\n",
    "    if IP in packet:\n",
    "        print(f\"[+] {packet[IP].src} -> {packet[IP].dst}\")\n",
    "\n",
    "# Sniff 10 packets on the default interface\n",
    "sniff(filter=\"ip\", prn=packet_callback,count=10)"
   ]
  },
  {
   "cell_type": "code",
   "execution_count": null,
   "id": "baf21455-d7fc-4143-9b96-66a27f188aee",
   "metadata": {},
   "outputs": [],
   "source": []
  }
 ],
 "metadata": {
  "kernelspec": {
   "display_name": "Python 3 (ipykernel)",
   "language": "python",
   "name": "python3"
  },
  "language_info": {
   "codemirror_mode": {
    "name": "ipython",
    "version": 3
   },
   "file_extension": ".py",
   "mimetype": "text/x-python",
   "name": "python",
   "nbconvert_exporter": "python",
   "pygments_lexer": "ipython3",
   "version": "3.12.7"
  }
 },
 "nbformat": 4,
 "nbformat_minor": 5
}
